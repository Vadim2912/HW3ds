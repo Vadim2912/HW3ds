{
 "cells": [
  {
   "cell_type": "markdown",
   "metadata": {
    "colab_type": "text",
    "id": "X9wfb-pqPzYu"
   },
   "source": [
    "# Циклы и условия\n",
    "\n",
    "## Домашняя работа\n",
    "Эта домашняя работа должна быть решена **БЕЗ** использования готовых функций (если именно они «решают» задачу) и сторонних библиотек. Используйте циклы и условия."
   ]
  },
  {
   "cell_type": "markdown",
   "metadata": {
    "colab_type": "text",
    "id": "LWsFp-lTB1SY"
   },
   "source": [
    "**Цель блока заданий:** в данном блоке задач вы потренируетесь использовать циклы и условные операторы для решения практических задач.\n",
    "\n",
    "**Критерии оценки:** задания считаются выполненными, если программа выводит корректный ответ."
   ]
  },
  {
   "cell_type": "markdown",
   "metadata": {
    "colab_type": "text",
    "id": "DMpu8uUoPzY0"
   },
   "source": [
    "## 1\n",
    "\n",
    "Напишите программу, которая будет запрашивать на вход числа (через запятую на одной строке) и выводить наибольшее значение из списка.\n",
    "<br><br>\n",
    "*Ограничение: нельзя пользоваться готовой функцией для нахождения максимума (например, `max()`), готовыми функциями и методами сортировки (например, `sort()`,`sorted()`), функцией set().*\n",
    "<br>\n",
    "<br>\n",
    "*Формат ввода:* <br>\n",
    "1, 2, 3, 6, 7<br><br>\n",
    "\n",
    "*Формат вывода:* <br>\n",
    "7"
   ]
  },
  {
   "cell_type": "markdown",
   "metadata": {
    "colab_type": "text",
    "id": "jc-6GNtHB1SZ"
   },
   "source": [
    "**Рекомендации к выполнению задания:** попробуйте создать переменную, в которой будете хранить максимум. Итерируя по списку входных значений, сравните максимум с каждым элементом. В случае, если элемент оказался больше максимума, присвойте данной переменной новое значение."
   ]
  },
  {
   "cell_type": "code",
   "execution_count": 1,
   "metadata": {
    "colab": {},
    "colab_type": "code",
    "id": "dHs34-p-PzY3"
   },
   "outputs": [
    {
     "name": "stdout",
     "output_type": "stream",
     "text": [
      "Введите  числа через запятую: 1, 4, 4.3, 8.6, 91, 63.5, 72\n",
      "91\n"
     ]
    }
   ],
   "source": [
    "input_number = input('Введите  числа через запятую: ').split(',')\n",
    "max_value = float(input_number[0])\n",
    "for i in input_number:\n",
    "    if float(i) > max_value: \n",
    "        max_value = float(i)\n",
    "if max_value == int(max_value):\n",
    "    max_value = int(max_value)\n",
    "print(max_value)"
   ]
  },
  {
   "cell_type": "markdown",
   "metadata": {
    "colab_type": "text",
    "id": "sCF9Hd9rPzZD"
   },
   "source": [
    "### 2\n",
    "\n",
    "Напишите программу, которая будет запрашивать на вход числа (каждое с новой строки) до тех пор, пока не будет введён ноль (0). На выход должно выводиться второе по величине значение.\n",
    "<br><br>\n",
    "*Ограничение: нельзя пользоваться готовой функцией для нахождения максимума (например, `max()`), готовыми функциями и методами сортировки (например, `sort()`,`sorted()`).*\n",
    "<br><br>\n",
    "*Формат ввода:* <br>\n",
    "4<br>\n",
    "6<br>\n",
    "7<br>\n",
    "7<br>\n",
    "0\n",
    "<br><br>\n",
    "\n",
    "*Формат вывода:* <br>\n",
    "6"
   ]
  },
  {
   "cell_type": "markdown",
   "metadata": {
    "colab_type": "text",
    "id": "3wgCKyz8B1Se"
   },
   "source": [
    "**Рекомендации к выполнению задания:** попробуйте реализовать идею решения из предыдущего задания, используя две переменные для хранения максимумов."
   ]
  },
  {
   "cell_type": "code",
   "execution_count": 3,
   "metadata": {
    "colab": {},
    "colab_type": "code",
    "id": "yrJk-mEjPzZF"
   },
   "outputs": [
    {
     "name": "stdout",
     "output_type": "stream",
     "text": [
      "Чтобы продолжить введите любое число, чтобы закончить введите ноль: 1\n",
      "Чтобы продолжить введите любое число, чтобы закончить введите ноль: 3\n",
      "Чтобы продолжить введите любое число, чтобы закончить введите ноль: 3\n",
      "Чтобы продолжить введите любое число, чтобы закончить введите ноль: 0\n",
      "Закончен ввод чисел\n",
      "Второе по величине введенное значение: 1\n"
     ]
    }
   ],
   "source": [
    "input_list = []\n",
    "while True:\n",
    "    input_number = float(input('Чтобы продолжить введите любое число, чтобы закончить введите ноль: '))\n",
    "    # и да, считаем, что ноль мы тоже ваводим и с ним сравниваем\n",
    "    input_list.append(input_number)\n",
    "    if input_number == 0:\n",
    "        print(\"Закончен ввод чисел\")\n",
    "        break\n",
    "\n",
    "# проверяем на длину списка\n",
    "if len(input_list) == 1:\n",
    "    print('Вы не ввели достаточно чисел')\n",
    "else:\n",
    "    # сортировка полученного списка\n",
    "    n = 1\n",
    "    while n < len(input_list):\n",
    "        for i in range(len(input_list) - n):\n",
    "\n",
    "            if input_list[i] > input_list[i + 1]:\n",
    "                input_list[i], input_list[i + 1] = input_list[i + 1], input_list[i]\n",
    "        n += 1\n",
    "\n",
    "    # Удаляем возможные повторения\n",
    "    j = 0\n",
    "    while j != len(input_list) - 1:\n",
    "        if input_list[j] == input_list[j + 1]:\n",
    "            input_list.pop(j)\n",
    "        else:\n",
    "            j += 1\n",
    "    # делаем красивый вывод\n",
    "    if input_list[-2] == int(input_list[-2]):\n",
    "        input_list[-2] = int(input_list[-2])\n",
    "    print('Второе по величине введенное значение: {}'.format(input_list[-2]))\n",
    "\n"
   ]
  },
  {
   "cell_type": "markdown",
   "metadata": {
    "colab_type": "text",
    "id": "fdJZMUtGPzZN"
   },
   "source": [
    "### 3\n",
    "\n",
    "Напишите программу, которая принимает на вход год, а на выход выдаёт количество дней в этом году.\n",
    "<br><br>\n",
    "*Формат ввода:* <br>\n",
    "2020<br><br>\n",
    "\n",
    "*Формат вывода:* <br>\n",
    "366"
   ]
  },
  {
   "cell_type": "markdown",
   "metadata": {
    "colab_type": "text",
    "id": "3RIf28qDB1Sh"
   },
   "source": [
    "**Рекомендации к выполнению задания:** вспомните свойство делимости для високосных годов."
   ]
  },
  {
   "cell_type": "code",
   "execution_count": 4,
   "metadata": {
    "colab": {},
    "colab_type": "code",
    "id": "Dk6PDx-jPzZP"
   },
   "outputs": [
    {
     "name": "stdout",
     "output_type": "stream",
     "text": [
      "ВВЕДИТЕ ГОД: 2014\n",
      "В 2014 году 365 дней\n"
     ]
    }
   ],
   "source": [
    "year = int(input('ВВЕДИТЕ ГОД: '))\n",
    "if year % 4 == 0:\n",
    "    num_day=366\n",
    "else:\n",
    "    num_day=365\n",
    "print('В {} году {} дней'.format(year, num_day))"
   ]
  },
  {
   "cell_type": "markdown",
   "metadata": {
    "colab_type": "text",
    "id": "wFGBh0dYPzZV"
   },
   "source": [
    "### 4\n",
    "\n",
    "Напишите программу, которая на вход получает координаты двух клеток шахматной доски и выводит соощение о том, являются ли эти клетки одного цвета.\n",
    "<br><br>\n",
    "*Формат ввода:* <br>\n",
    "c2<br>\n",
    "e4<br><br>\n",
    "\n",
    "*Формат вывода:* <br>\n",
    "Клетки одинакового цвета"
   ]
  },
  {
   "cell_type": "markdown",
   "metadata": {
    "colab_type": "text",
    "id": "_VJtexxXB1Sk"
   },
   "source": [
    "**Рекомендации к выполнению задания:** попробуйте заметить закономерность о чётности и нечётности суммы координат клеток, если считать, что координаты клеток задаются только цифрами от 1 до 8. "
   ]
  },
  {
   "cell_type": "code",
   "execution_count": 6,
   "metadata": {
    "colab": {},
    "colab_type": "code",
    "id": "k-8POcqGPzZW"
   },
   "outputs": [
    {
     "name": "stdout",
     "output_type": "stream",
     "text": [
      "Введите координаты первой клетки поля: d3\n",
      "Введите координаты второй клетки поля: e4\n",
      "Введены координаты клеток одного цвета\n"
     ]
    }
   ],
   "source": [
    "cols = \"abcdefgh\"\n",
    "first_sq = input('Введите координаты первой клетки поля: ')\n",
    "second_sq = input('Введите координаты второй клетки поля: ')\n",
    "# определим попарно координаты клеток\n",
    "first_x = first_sq[0].lower()\n",
    "second_x = second_sq[0].lower()\n",
    "first_y = int(first_sq[1])\n",
    "second_y = int(second_sq[1])\n",
    "# Проверка на правильность введения\n",
    "if (first_x not in cols) or (second_x not in cols) \\\n",
    "        or (second_y < 1) or (second_y > 8) \\\n",
    "        or (first_y > 8) or (first_y < 1):\n",
    "    print('координаты не валидны')\n",
    "else: # переведем буквы в цифровое зничение\n",
    "    first_x=cols.index(first_x) + 1\n",
    "    second_x = cols.index(second_x) + 1\n",
    "    # Если сумма числовых координат клетки четная то клетка одного цвета если нечетная то клетка другого цвета.\n",
    "    # Две заданные клетки одного цвета если сумма  их координат четное число, проверим:\n",
    "    if (first_x + first_y + second_x + second_y) % 2 == 0:\n",
    "        print('Введены координаты клеток одного цвета')\n",
    "    else:\n",
    "        print('Введены координаты клеток разного цвета')"
   ]
  },
  {
   "cell_type": "markdown",
   "metadata": {
    "colab_type": "text",
    "id": "O594rz0tPzZb"
   },
   "source": [
    "### 5\n",
    "\n",
    "Напишите программу, которая на вход получает число, а на выходе сообщает, простое это число или составное.\n",
    "<br><br>\n",
    "*Формат ввода:* <br>\n",
    "169<br><br>\n",
    "\n",
    "*Формат вывода:* <br>\n",
    "Составное число"
   ]
  },
  {
   "cell_type": "markdown",
   "metadata": {
    "colab_type": "text",
    "id": "NQjUV04_B1So"
   },
   "source": [
    "**Рекомендации к выполнению задания:** помните, что простых чисел бесконечно много, а любое произведение простых чисел даёт составное число. "
   ]
  },
  {
   "cell_type": "code",
   "execution_count": 7,
   "metadata": {
    "colab": {},
    "colab_type": "code",
    "id": "-Oy1AesyPzZd"
   },
   "outputs": [
    {
     "name": "stdout",
     "output_type": "stream",
     "text": [
      "Введите целое число: 32\n",
      "Число не является простым\n"
     ]
    }
   ],
   "source": [
    "num = int(input('Введите целое число: '))\n",
    "for i in range(2, num + 1):\n",
    "    if num % i == 0 and num != i:\n",
    "        print('Число не является простым')\n",
    "        break\n",
    "else:\n",
    "    print('Это число простое')\n",
    "    "
   ]
  },
  {
   "cell_type": "markdown",
   "metadata": {
    "colab_type": "text",
    "id": "QzBAQaW8PzZg"
   },
   "source": [
    "### 6\n",
    "\n",
    "Напишите программу, которая на вход получает целое число больше 2 и выводит по нему его наименьший натуральный делитель, отличный от 1.\n",
    "<br><br>\n",
    "*Формат ввода:* <br>\n",
    "169<br><br>\n",
    "\n",
    "*Формат вывода:* <br>\n",
    "13"
   ]
  },
  {
   "cell_type": "code",
   "execution_count": 8,
   "metadata": {
    "colab": {},
    "colab_type": "code",
    "id": "Z2QzgAYKPzZi"
   },
   "outputs": [
    {
     "name": "stdout",
     "output_type": "stream",
     "text": [
      "Введите целое число больше двух: 5\n",
      "Наименьший натуральный делитель для числа 5 число 5\n"
     ]
    }
   ],
   "source": [
    "num = int(input('Введите целое число больше двух: '))\n",
    "i = 1\n",
    "while True:\n",
    "    i += 1\n",
    "    if num % i == 0:\n",
    "        break\n",
    "print('Наименьший натуральный делитель для числа {} число {}'.format(num, i))"
   ]
  },
  {
   "cell_type": "markdown",
   "metadata": {
    "colab_type": "text",
    "id": "Mdg_IAfFPzZk"
   },
   "source": [
    "### 7\n",
    "\n",
    "Напишите программу, которая поможет составить план тренировок для подготовки к марафону. Она получает на вход число километров на планируемом марафоне, сколько пользователь планирует пробежать в первый день тренировок и на сколько процентов планирует увеличивать каждый день это расстояние. На выходе программа должна выдавать, сколько дней пользователю потребуется для того, чтобы подготовиться пробежать целевое количество километров.\n",
    "<br><br>\n",
    "*Ограничение: нельзя пользоваться функцией `ceil()` из модуля `math` и её аналогами.*\n",
    "<br><br>\n",
    "*Формат ввода:* <br>\n",
    "12<br>\n",
    "3<br>\n",
    "10<br><br>\n",
    "\n",
    "*Формат вывода:* <br>\n",
    "16"
   ]
  },
  {
   "cell_type": "code",
   "execution_count": 9,
   "metadata": {
    "colab": {},
    "colab_type": "code",
    "id": "mXeF6AMWPzZl"
   },
   "outputs": [
    {
     "name": "stdout",
     "output_type": "stream",
     "text": [
      "Введите длину марафона в км: 34\n",
      "Введите сколько вы планируее пробежать в первый день в км: 7\n",
      "Введите ваш планируемый прогресс в процентах: 6\n",
      "Вам понадобиться 29 дней\n"
     ]
    }
   ],
   "source": [
    "path_length = float(input('Введите длину марафона в км: '))\n",
    "path_first_day = float(input('Введите сколько вы планируее пробежать в первый день в км: '))\n",
    "increase = float(input('Введите ваш планируемый прогресс в процентах: '))\n",
    "# допустим что в первый день у него прогресса не было \n",
    "path_in_day = path_first_day\n",
    "day_count = 1\n",
    "path = path_in_day\n",
    "progress = 0\n",
    "while path <= path_length:\n",
    "    progress = path_in_day * increase / 100\n",
    "    path_in_day = path_in_day + progress\n",
    "    path = path_in_day\n",
    "    day_count += 1\n",
    "print('Вам понадобиться {} дней'.format(day_count))"
   ]
  },
  {
   "cell_type": "markdown",
   "metadata": {
    "colab_type": "text",
    "id": "sxKoWpYKPzZo"
   },
   "source": [
    "### 8\n",
    "\n",
    "Напишите программу, которая на вход получает число n и считает по нему сумму 1²+2²+3²+...+n².\n",
    "<br><br>\n",
    "*Ограничение: нельзя пользоваться функцией `sum()` и её аналогами.*\n",
    "\n",
    "*Формат ввода:* <br>\n",
    "3<br><br>\n",
    "\n",
    "*Формат вывода:* <br>\n",
    "14"
   ]
  },
  {
   "cell_type": "code",
   "execution_count": 10,
   "metadata": {
    "colab": {},
    "colab_type": "code",
    "id": "RiPlWLm6PzZp"
   },
   "outputs": [
    {
     "name": "stdout",
     "output_type": "stream",
     "text": [
      "Введите целое число : 8\n",
      "Результат 204\n"
     ]
    }
   ],
   "source": [
    "number = int(input('Введите целое число : '))\n",
    "sum=0\n",
    "for i in range (number+1):\n",
    "    sum += i ** 2\n",
    "print('Результат {}'.format(sum))\n"
   ]
  },
  {
   "cell_type": "markdown",
   "metadata": {
    "colab_type": "text",
    "id": "aXzG4-wdPzZr"
   },
   "source": [
    "## 9\n",
    "\n",
    "Напишите программу, которая на вход получает число n и считает по нему сумму сумму 1! + 2! + 3! + ... + n!\n",
    "<br><br>\n",
    "*Ограничение: нельзя пользоваться готовой функцией `factorial()` из модуля `math`, функцией `sum()` и их аналогами.*\n",
    "\n",
    "*Формат ввода:* <br>\n",
    "3<br><br>\n",
    "\n",
    "*Формат вывода:* <br>\n",
    "9"
   ]
  },
  {
   "cell_type": "code",
   "execution_count": 11,
   "metadata": {
    "colab": {},
    "colab_type": "code",
    "id": "KBEXUEDQPzZs"
   },
   "outputs": [
    {
     "name": "stdout",
     "output_type": "stream",
     "text": [
      "Введите целое число : 5\n",
      "Результат 153\n"
     ]
    }
   ],
   "source": [
    "number = int(input('Введите целое число : '))\n",
    "factorial = 1\n",
    "factorial_sum = 0\n",
    "for i in range(1, number + 1):\n",
    "    factorial *= i\n",
    "    factorial_sum += factorial\n",
    "print('Результат {}'.format(factorial_sum))"
   ]
  },
  {
   "cell_type": "markdown",
   "metadata": {
    "colab_type": "text",
    "id": "4nsOuiWVPzZu"
   },
   "source": [
    "### 10\n",
    "\n",
    "Напишите программу, которая получает на вход последовательность чисел (каждое число с новой строки до того момента, пока пользователь не введёт 0) и считает количество чётных элементов в последовательности.\n",
    "<br><br>\n",
    "*Формат ввода:* <br>\n",
    "5<br>\n",
    "4<br>\n",
    "2<br>\n",
    "7<br>\n",
    "8<br>\n",
    "9<br>\n",
    "0<br><br>\n",
    "\n",
    "*Формат вывода:* <br>\n",
    "3"
   ]
  },
  {
   "cell_type": "code",
   "execution_count": 12,
   "metadata": {
    "colab": {},
    "colab_type": "code",
    "id": "xktF2cocPzZv"
   },
   "outputs": [
    {
     "name": "stdout",
     "output_type": "stream",
     "text": [
      "Чтобы продолжить введите любое число, чтобы закончить введите ноль: -7\n",
      "Чтобы продолжить введите любое число, чтобы закончить введите ноль: -9\n",
      "Чтобы продолжить введите любое число, чтобы закончить введите ноль: 67\n",
      "Чтобы продолжить введите любое число, чтобы закончить введите ноль: 0\n",
      "количество четных элементов в последовательности: 0\n"
     ]
    }
   ],
   "source": [
    "i=0\n",
    "while True:\n",
    "    input_number = int(input('Чтобы продолжить введите любое число, чтобы закончить введите ноль: '))\n",
    "    if input_number == 0:\n",
    "        break\n",
    "    else:\n",
    "        if input_number % 2 ==0:\n",
    "            i+=1\n",
    "print('количество четных элементов в последовательности: {}'.format(i))"
   ]
  },
  {
   "cell_type": "markdown",
   "metadata": {
    "colab_type": "text",
    "id": "hyC9QGXPPzZx"
   },
   "source": [
    "### 11\n",
    "\n",
    "Напишите программу, которая формирует список игроков женской команды по мини-футболу. Программа должна записывать возраст и пол претендента. Возраст должен запрашиваться после пола и только в том случае, если пол претендента женский. Если пол претендента мужской, программа должна сообщать о том, что он не подходит. Возраст претенденток должен быть от 18 до 35 лет. Если кандидат удовлетворяет требованиям, должно появляться соответствующее сообщение. Всего в команде могут быть только шесть человек. Когда необходимое число набирается, запись закрывается и выводится сообщение «Запись в команду закрыта».\n"
   ]
  },
  {
   "cell_type": "code",
   "execution_count": 15,
   "metadata": {
    "colab": {},
    "colab_type": "code",
    "id": "qSDK-zQ4PzZx"
   },
   "outputs": [
    {
     "name": "stdout",
     "output_type": "stream",
     "text": [
      "Введите пол кандидата: женщина\n",
      "Введите Ваш возраст: 22\n",
      "Вы записаны в команду\n"
     ]
    }
   ],
   "source": [
    "sex = str(input(\"Введите пол кандидата: \"))\n",
    "if 'муж' in sex.lower() or 'жен' in sex.lower():\n",
    "    if 'муж' in sex.lower():\n",
    "        print('Вы не можете записаться в команду')\n",
    "    else:\n",
    "        age = int(input(\"Введите Ваш возраст: \"))\n",
    "        if age > 35 or age < 18:\n",
    "            print('Вы не подходите по возрасту')\n",
    "        else:\n",
    "            print('Вы записаны в команду')\n",
    "else:\n",
    "    print('Вы ввели не валидное значение')\n"
   ]
  },
  {
   "cell_type": "markdown",
   "metadata": {
    "colab_type": "text",
    "id": "B4JAB8AqPzZ0"
   },
   "source": [
    "### 12\n",
    "\n",
    "\n",
    "Напишите программу, которая на вход получает максимальную ширину ромба и рисует его. Гарантируется, что входное число всегда нечётное.\n",
    "<br><br>\n",
    "\n",
    "*Формат ввода:* <br>\n",
    "5<br><br>\n",
    "\n",
    "*Формат вывода:* <br>\n",
    "```  \n",
    "  *\n",
    " ***\n",
    "*****\n",
    " ***\n",
    "  *```"
   ]
  },
  {
   "cell_type": "markdown",
   "metadata": {
    "colab_type": "text",
    "id": "74kwD7s7B1S6"
   },
   "source": [
    "**Рекомендации к выполнению задания:** Внимательно изучите рисунок из примера, попробуйте заметить закономерность, по которой он строится."
   ]
  },
  {
   "cell_type": "code",
   "execution_count": 17,
   "metadata": {
    "colab": {},
    "colab_type": "code",
    "id": "WVp7O75oPzZ0"
   },
   "outputs": [
    {
     "name": "stdout",
     "output_type": "stream",
     "text": [
      "Введите целое нечетное число: 5\n",
      "   *\n",
      "  ***\n",
      " *****\n",
      "  ***\n",
      "   *\n"
     ]
    }
   ],
   "source": [
    "width_diamond = int(input('Введите целое нечетное число: '))\n",
    "if width_diamond % 2 == 0:\n",
    "    print('Простите, вы не выполнили условие, число не является нечетным ')\n",
    "else:\n",
    "    for i in range(1, width_diamond + 1, 2):\n",
    "        k = int((width_diamond - i) / 2)\n",
    "        print(' ' * k, '*' * i)\n",
    "    for i in range(width_diamond - 2, 0, -2):\n",
    "        k = int((width_diamond - i) / 2)\n",
    "        print(' ' * k, '*' * i)"
   ]
  },
  {
   "cell_type": "markdown",
   "metadata": {
    "colab_type": "text",
    "id": "xrIXWj0yPzZ2"
   },
   "source": [
    "### 13\n",
    "\n",
    "Напишите программу, которая запрашивает у пользователя сторону квадрата и символ, а затем рисует этот символ по диагоналям квадрата. Гарантируется, что входное число всегда нечётное.\n",
    "<br><br>\n",
    "\n",
    "*Формат ввода:* <br>\n",
    "5<br>\n",
    "\\#<br><br>\n",
    "\n",
    "*Формат вывода:* <br>\n",
    "```\n",
    " \n",
    "#   #\n",
    " # #\n",
    "  #  \n",
    " # #\n",
    "#   #\n",
    "```"
   ]
  },
  {
   "cell_type": "markdown",
   "metadata": {
    "colab_type": "text",
    "id": "ITzL6HrwB1S9"
   },
   "source": [
    "**Рекомендации к выполнению задания:** внимательно изучите рисунок из примера, попробуйте заметить закономерность, по которой он строится."
   ]
  },
  {
   "cell_type": "code",
   "execution_count": 19,
   "metadata": {
    "colab": {},
    "colab_type": "code",
    "id": "oUKNB9TaPzZ3"
   },
   "outputs": [
    {
     "name": "stdout",
     "output_type": "stream",
     "text": [
      "Введите целое нечетное число: 9\n",
      "Введите любой символ: #\n",
      "#       #\n",
      " #     # \n",
      "  #   #  \n",
      "   # #   \n",
      "    #    \n",
      "   # #   \n",
      "  #   #  \n",
      " #     # \n",
      "#       #\n"
     ]
    }
   ],
   "source": [
    "width_square = int(input('Введите целое нечетное число: '))\n",
    "if width_square % 2 == 0:\n",
    "    print('Простите, вы не выполнили условие, число не является нечетным ')\n",
    "else:\n",
    "    symbol = input('Введите любой символ: ')\n",
    "    if len(symbol) > 1:\n",
    "        print('Простите, вы не выполнили условие, вы ввели более одного символа ')\n",
    "    else:\n",
    "        for i in range(0, width_square):\n",
    "            current_line = [' '] * width_square\n",
    "            current_line[i] = symbol\n",
    "            current_line[width_square - 1 - i] = symbol\n",
    "            print(''.join(current_line))"
   ]
  },
  {
   "cell_type": "markdown",
   "metadata": {
    "colab_type": "text",
    "id": "3GaiPsFYPzZ_"
   },
   "source": [
    "### 14\n",
    "\n",
    "В корзине лежат шары. Если разложить их в кучи по два, останется один. Если разложить в кучи по три, останется один. Если разложить в кучи по четыре, останется один. Если разложить в кучи по пять, останется один. Если разложить в кучи по шесть, останется один. Если разложить в кучи по семь, не будет остатка. Нужно найти минимальное количество шаров, удовлетворяющее условию.  <br>"
   ]
  },
  {
   "cell_type": "code",
   "execution_count": 20,
   "metadata": {
    "colab": {},
    "colab_type": "code",
    "id": "V2msEhQkPzZ_"
   },
   "outputs": [
    {
     "name": "stdout",
     "output_type": "stream",
     "text": [
      "Минимальное количество шаров, удовлетворяющее условию: 301\n"
     ]
    }
   ],
   "source": [
    "for n in range (2,1000):\n",
    "    if (n % 2 == 1) & (n % 3 == 1) & (n % 4 == 1) & (n % 5 == 1) & (n % 6 == 1) & (n % 7 == 0):\n",
    "        print(\"Минимальное количество шаров, удовлетворяющее условию: {}\".format(n))\n",
    "        break"
   ]
  },
  {
   "cell_type": "markdown",
   "metadata": {
    "colab_type": "text",
    "id": "5pOjlON-PzaC"
   },
   "source": [
    "### 15\n",
    "\n",
    "Рабочие клеили обои на стены. Первую стену поклеили за M минут, а каждую следующую клеили на пять минут дольше, чем предыдущую.\n",
    "Напишите программу, которая запрашивает, сколько стен было в квартире под поклейку, а также время работы с первой стеной в минутах. Программа должна выводить, сколько **часов** рабочие потратили на поклейку обоев во всей квартире. Час отсчитывается с первой минуты. Ответом должно быть целое число. \n",
    "<br><br>\n",
    "*Ограничение: нельзя пользоваться готовыми функциями `bool()`, `floor()` и их аналогами.*\n",
    "<br><br>\n",
    "*Формат ввода:* <br>\n",
    "6<br>\n",
    "10<br><br>\n",
    "\n",
    "*Формат вывода:* <br>\n",
    "3"
   ]
  },
  {
   "cell_type": "code",
   "execution_count": 22,
   "metadata": {
    "colab": {},
    "colab_type": "code",
    "id": "Pmu96rWGPzaD"
   },
   "outputs": [
    {
     "name": "stdout",
     "output_type": "stream",
     "text": [
      "Введите количество стен в квартире: 3\n",
      "Введите за сколько минут поклеили первую стену: 19\n",
      "Количество часов, которые вам понадобятся для оклейки всех стен - 1 \n"
     ]
    }
   ],
   "source": [
    "walls_number = int(input('Введите количество стен в квартире: '))\n",
    "pasting_time_first = int(input('Введите за сколько минут поклеили первую стену: '))\n",
    "\n",
    "# первую стену уже знаем\n",
    "pasting_time = pasting_time_first\n",
    "time = pasting_time_first\n",
    "\n",
    "for wall_count in range(1, walls_number):\n",
    "    pasting_time = pasting_time + 5\n",
    "    time += pasting_time\n",
    "# time  результат в минутах, получим из него результат в часах   \n",
    "hour_time = time // 60\n",
    "print('Количество часов, которые вам понадобятся для оклейки всех стен - {} '.format(hour_time))"
   ]
  },
  {
   "cell_type": "markdown",
   "metadata": {
    "colab_type": "text",
    "id": "63C6Za3CPzaF"
   },
   "source": [
    "### 16\n",
    "\n",
    "Напишите программу, которая убирает из списка повторяющиеся элементы. Программа должна запрашивать на вход слова, каждое с новой строки, пока пользователь не введёт пустую строку. Затем должна выводить список без повторяющихся элементов. \n",
    "<br><br>\n",
    "*Ограничение: нельзя пользоваться готовой функцией `set()` и её аналогами.*\n",
    "\n",
    "<br><br>\n",
    "*Формат ввода:* <br>\n",
    "Алиса<br>\n",
    "Алиса<br>\n",
    "Алиса<br>\n",
    "Петя<br>\n",
    "<br><br>\n",
    "\n",
    "*Формат вывода:* <br>\n",
    "[Алиса, Петя]"
   ]
  },
  {
   "cell_type": "markdown",
   "metadata": {
    "colab_type": "text",
    "id": "xwewurzYB1TF"
   },
   "source": [
    "**Рекомендации к выполнению задания:** попробуйте использовать проверку на включённость."
   ]
  },
  {
   "cell_type": "code",
   "execution_count": 23,
   "metadata": {
    "colab": {},
    "colab_type": "code",
    "id": "MQ-eDkbAPzaG"
   },
   "outputs": [
    {
     "name": "stdout",
     "output_type": "stream",
     "text": [
      "Чтобы продолжить введите любое слово, чтобы закончить введите пустое значение: Алиса\n",
      "Чтобы продолжить введите любое слово, чтобы закончить введите пустое значение: Алиса\n",
      "Чтобы продолжить введите любое слово, чтобы закончить введите пустое значение: \n",
      "['Алиса']\n"
     ]
    }
   ],
   "source": [
    "input_list = []\n",
    "while True:\n",
    "    input_world = input('Чтобы продолжить введите любое слово, чтобы закончить введите пустое значение: ')\n",
    "    if input_world == (''):\n",
    "        break\n",
    "    input_list.append(input_world)\n",
    "# проверяем на длину списка\n",
    "if len(input_list) == 0:\n",
    "    print('Вы не ввели достаточно слов')\n",
    "else:\n",
    "    # Удаляем возможные повторения\n",
    "    unique_list = []\n",
    "    for i in input_list:\n",
    "        if i not in unique_list:\n",
    "            unique_list.append(i)\n",
    "    print(unique_list)"
   ]
  },
  {
   "cell_type": "markdown",
   "metadata": {
    "colab_type": "text",
    "id": "jueSDORaPzaI"
   },
   "source": [
    "### 17\n",
    "\n",
    "Напишите программу, которая выводит число пар одинаковых элементов в списке. При этом, если два элемента образовали пару, они не могут вступить в пару с другими элементами. Программа должна запрашивать на вход слова, каждое с новой строки, пока пользователь не введёт пустую строку. \n",
    "<br><br>\n",
    "*Формат ввода:* <br>\n",
    "Алиса<br>\n",
    "Алиса<br>\n",
    "Алиса<br>\n",
    "<br><br>\n",
    "\n",
    "*Формат вывода:* <br>\n",
    "1"
   ]
  },
  {
   "cell_type": "markdown",
   "metadata": {
    "colab_type": "text",
    "id": "gpQuU1lnB1TH"
   },
   "source": [
    "**Рекомендации к выполнению задания:** попробуйте использовать проверку на включённость."
   ]
  },
  {
   "cell_type": "code",
   "execution_count": null,
   "metadata": {
    "colab": {},
    "colab_type": "code",
    "id": "49tbEr3NPzaJ"
   },
   "outputs": [],
   "source": [
    "input_list = []\n",
    "while True:\n",
    "    input_world = input('Чтобы продолжить введите что угодно, чтобы закончить введите пустое значение: ')\n",
    "    if input_world == (''):\n",
    "        break\n",
    "    input_list.append(input_world)\n",
    "# проверяем на длину списка\n",
    "if len(input_list) == 0:\n",
    "    print('Вы не захотели с нами играть, до свидания')\n",
    "else:\n",
    "    # реализуем счетчик\n",
    "    counter = 0\n",
    "    for i in range(len(input_list)):\n",
    "        for j in range(i + 1, len(input_list)):\n",
    "            if input_list[i] == input_list[j]:\n",
    "                counter += 1\n",
    "    print('Число пар одинаковых элементов: {}.'.format(counter))"
   ]
  },
  {
   "cell_type": "markdown",
   "metadata": {
    "colab_type": "text",
    "id": "yVLcBrD-PzaN"
   },
   "source": [
    "### 18\n",
    "\n",
    "Будем считать, что кубик может иметь неограниченное количество граней (натуральное число). Напишите программу, которая запрашивает, сколько граней имеется у двух разных кубиков. Затем выводит все возможные комбинации результатов бросков двух таких кубиков. \n",
    "<br><br>\n",
    "*Формат ввода:* <br>\n",
    "3<br>\n",
    "4<br><br>\n",
    "\n",
    "*Формат вывода:* <br>\n",
    "1 1<br>\n",
    "1 2<br>\n",
    "1 3<br>\n",
    "1 4<br>\n",
    "2 1<br>\n",
    "2 2<br>\n",
    "2 3<br>\n",
    "2 4<br>\n",
    "3 1<br>\n",
    "3 2<br>\n",
    "3 3<br>\n",
    "3 4<br>"
   ]
  },
  {
   "cell_type": "markdown",
   "metadata": {
    "colab_type": "text",
    "id": "5aAs5EsFB1TK"
   },
   "source": [
    "**Рекомендации к выполнению задания:** попробуйте использовать вложенные циклы."
   ]
  },
  {
   "cell_type": "code",
   "execution_count": 2,
   "metadata": {
    "colab": {},
    "colab_type": "code",
    "id": "7I2va0KwPzaR"
   },
   "outputs": [
    {
     "name": "stdout",
     "output_type": "stream",
     "text": [
      "Введите натуральное число: 3\n",
      "И еще одно натуральное число: 4\n",
      "1 1\n",
      "1 2\n",
      "1 3\n",
      "1 4\n",
      "2 1\n",
      "2 2\n",
      "2 3\n",
      "2 4\n",
      "3 1\n",
      "3 2\n",
      "3 3\n",
      "3 4\n"
     ]
    }
   ],
   "source": [
    "first_num = int(input('Введите натуральное число: '))\n",
    "second_num = int(input('И еще одно натуральное число: '))\n",
    "# реализуем счетчик\n",
    "for i in range(1,first_num+1):\n",
    "    for j in range(1,second_num+1):\n",
    "        print(i,j)"
   ]
  },
  {
   "cell_type": "code",
   "execution_count": null,
   "metadata": {},
   "outputs": [],
   "source": []
  }
 ],
 "metadata": {
  "colab": {
   "collapsed_sections": [],
   "name": "jun_anl_loops_and_ifs.ipynb",
   "provenance": []
  },
  "kernelspec": {
   "display_name": "Python 3",
   "language": "python",
   "name": "python3"
  },
  "language_info": {
   "codemirror_mode": {
    "name": "ipython",
    "version": 3
   },
   "file_extension": ".py",
   "mimetype": "text/x-python",
   "name": "python",
   "nbconvert_exporter": "python",
   "pygments_lexer": "ipython3",
   "version": "3.7.3"
  }
 },
 "nbformat": 4,
 "nbformat_minor": 1
}
